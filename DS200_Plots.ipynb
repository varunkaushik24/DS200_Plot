{
 "cells": [
  {
   "cell_type": "markdown",
   "id": "64e65c62",
   "metadata": {},
   "source": [
    "### This notebook uses basic matplotlib function.\n",
    "The data is taken from https://data.gov.in/resources/sub-divisional-monthly-rainfall-1901-2017"
   ]
  },
  {
   "cell_type": "code",
   "execution_count": 1,
   "id": "486706e4",
   "metadata": {},
   "outputs": [],
   "source": [
    "import numpy as np\n",
    "import pandas as pd\n",
    "import matplotlib.pyplot as plt\n",
    "%matplotlib qt"
   ]
  },
  {
   "cell_type": "code",
   "execution_count": 2,
   "id": "5bc7920b",
   "metadata": {},
   "outputs": [],
   "source": [
    "# Reading the data"
   ]
  },
  {
   "cell_type": "code",
   "execution_count": 3,
   "id": "9729756e",
   "metadata": {},
   "outputs": [],
   "source": [
    "df=pd.read_csv('Sub_Division_IMD_2017.csv')"
   ]
  },
  {
   "cell_type": "code",
   "execution_count": 4,
   "id": "35faef5a",
   "metadata": {},
   "outputs": [
    {
     "data": {
      "text/html": [
       "<div>\n",
       "<style scoped>\n",
       "    .dataframe tbody tr th:only-of-type {\n",
       "        vertical-align: middle;\n",
       "    }\n",
       "\n",
       "    .dataframe tbody tr th {\n",
       "        vertical-align: top;\n",
       "    }\n",
       "\n",
       "    .dataframe thead th {\n",
       "        text-align: right;\n",
       "    }\n",
       "</style>\n",
       "<table border=\"1\" class=\"dataframe\">\n",
       "  <thead>\n",
       "    <tr style=\"text-align: right;\">\n",
       "      <th></th>\n",
       "      <th>SUBDIVISION</th>\n",
       "      <th>YEAR</th>\n",
       "      <th>JAN</th>\n",
       "      <th>FEB</th>\n",
       "      <th>MAR</th>\n",
       "      <th>APR</th>\n",
       "      <th>MAY</th>\n",
       "      <th>JUN</th>\n",
       "      <th>JUL</th>\n",
       "      <th>AUG</th>\n",
       "      <th>SEP</th>\n",
       "      <th>OCT</th>\n",
       "      <th>NOV</th>\n",
       "      <th>DEC</th>\n",
       "      <th>ANNUAL</th>\n",
       "      <th>JF</th>\n",
       "      <th>MAM</th>\n",
       "      <th>JJAS</th>\n",
       "      <th>OND</th>\n",
       "    </tr>\n",
       "  </thead>\n",
       "  <tbody>\n",
       "    <tr>\n",
       "      <th>0</th>\n",
       "      <td>Andaman &amp; Nicobar Islands</td>\n",
       "      <td>1901</td>\n",
       "      <td>49.2</td>\n",
       "      <td>87.1</td>\n",
       "      <td>29.2</td>\n",
       "      <td>2.3</td>\n",
       "      <td>528.8</td>\n",
       "      <td>517.5</td>\n",
       "      <td>365.1</td>\n",
       "      <td>481.1</td>\n",
       "      <td>332.6</td>\n",
       "      <td>388.5</td>\n",
       "      <td>558.2</td>\n",
       "      <td>33.6</td>\n",
       "      <td>3373.2</td>\n",
       "      <td>136.3</td>\n",
       "      <td>560.3</td>\n",
       "      <td>1696.3</td>\n",
       "      <td>980.3</td>\n",
       "    </tr>\n",
       "    <tr>\n",
       "      <th>1</th>\n",
       "      <td>Andaman &amp; Nicobar Islands</td>\n",
       "      <td>1902</td>\n",
       "      <td>0.0</td>\n",
       "      <td>159.8</td>\n",
       "      <td>12.2</td>\n",
       "      <td>0.0</td>\n",
       "      <td>446.1</td>\n",
       "      <td>537.1</td>\n",
       "      <td>228.9</td>\n",
       "      <td>753.7</td>\n",
       "      <td>666.2</td>\n",
       "      <td>197.2</td>\n",
       "      <td>359.0</td>\n",
       "      <td>160.5</td>\n",
       "      <td>3520.7</td>\n",
       "      <td>159.8</td>\n",
       "      <td>458.3</td>\n",
       "      <td>2185.9</td>\n",
       "      <td>716.7</td>\n",
       "    </tr>\n",
       "    <tr>\n",
       "      <th>2</th>\n",
       "      <td>Andaman &amp; Nicobar Islands</td>\n",
       "      <td>1903</td>\n",
       "      <td>12.7</td>\n",
       "      <td>144.0</td>\n",
       "      <td>0.0</td>\n",
       "      <td>1.0</td>\n",
       "      <td>235.1</td>\n",
       "      <td>479.9</td>\n",
       "      <td>728.4</td>\n",
       "      <td>326.7</td>\n",
       "      <td>339.0</td>\n",
       "      <td>181.2</td>\n",
       "      <td>284.4</td>\n",
       "      <td>225.0</td>\n",
       "      <td>2957.4</td>\n",
       "      <td>156.7</td>\n",
       "      <td>236.1</td>\n",
       "      <td>1874.0</td>\n",
       "      <td>690.6</td>\n",
       "    </tr>\n",
       "    <tr>\n",
       "      <th>3</th>\n",
       "      <td>Andaman &amp; Nicobar Islands</td>\n",
       "      <td>1904</td>\n",
       "      <td>9.4</td>\n",
       "      <td>14.7</td>\n",
       "      <td>0.0</td>\n",
       "      <td>202.4</td>\n",
       "      <td>304.5</td>\n",
       "      <td>495.1</td>\n",
       "      <td>502.0</td>\n",
       "      <td>160.1</td>\n",
       "      <td>820.4</td>\n",
       "      <td>222.2</td>\n",
       "      <td>308.7</td>\n",
       "      <td>40.1</td>\n",
       "      <td>3079.6</td>\n",
       "      <td>24.1</td>\n",
       "      <td>506.9</td>\n",
       "      <td>1977.6</td>\n",
       "      <td>571.0</td>\n",
       "    </tr>\n",
       "    <tr>\n",
       "      <th>4</th>\n",
       "      <td>Andaman &amp; Nicobar Islands</td>\n",
       "      <td>1905</td>\n",
       "      <td>1.3</td>\n",
       "      <td>0.0</td>\n",
       "      <td>3.3</td>\n",
       "      <td>26.9</td>\n",
       "      <td>279.5</td>\n",
       "      <td>628.7</td>\n",
       "      <td>368.7</td>\n",
       "      <td>330.5</td>\n",
       "      <td>297.0</td>\n",
       "      <td>260.7</td>\n",
       "      <td>25.4</td>\n",
       "      <td>344.7</td>\n",
       "      <td>2566.7</td>\n",
       "      <td>1.3</td>\n",
       "      <td>309.7</td>\n",
       "      <td>1624.9</td>\n",
       "      <td>630.8</td>\n",
       "    </tr>\n",
       "  </tbody>\n",
       "</table>\n",
       "</div>"
      ],
      "text/plain": [
       "                 SUBDIVISION  YEAR   JAN    FEB   MAR    APR    MAY    JUN  \\\n",
       "0  Andaman & Nicobar Islands  1901  49.2   87.1  29.2    2.3  528.8  517.5   \n",
       "1  Andaman & Nicobar Islands  1902   0.0  159.8  12.2    0.0  446.1  537.1   \n",
       "2  Andaman & Nicobar Islands  1903  12.7  144.0   0.0    1.0  235.1  479.9   \n",
       "3  Andaman & Nicobar Islands  1904   9.4   14.7   0.0  202.4  304.5  495.1   \n",
       "4  Andaman & Nicobar Islands  1905   1.3    0.0   3.3   26.9  279.5  628.7   \n",
       "\n",
       "     JUL    AUG    SEP    OCT    NOV    DEC  ANNUAL     JF    MAM    JJAS  \\\n",
       "0  365.1  481.1  332.6  388.5  558.2   33.6  3373.2  136.3  560.3  1696.3   \n",
       "1  228.9  753.7  666.2  197.2  359.0  160.5  3520.7  159.8  458.3  2185.9   \n",
       "2  728.4  326.7  339.0  181.2  284.4  225.0  2957.4  156.7  236.1  1874.0   \n",
       "3  502.0  160.1  820.4  222.2  308.7   40.1  3079.6   24.1  506.9  1977.6   \n",
       "4  368.7  330.5  297.0  260.7   25.4  344.7  2566.7    1.3  309.7  1624.9   \n",
       "\n",
       "     OND  \n",
       "0  980.3  \n",
       "1  716.7  \n",
       "2  690.6  \n",
       "3  571.0  \n",
       "4  630.8  "
      ]
     },
     "execution_count": 4,
     "metadata": {},
     "output_type": "execute_result"
    }
   ],
   "source": [
    "df.head()"
   ]
  },
  {
   "cell_type": "code",
   "execution_count": 5,
   "id": "b7c24970",
   "metadata": {},
   "outputs": [],
   "source": [
    "# getting the data for different states"
   ]
  },
  {
   "cell_type": "code",
   "execution_count": 6,
   "id": "05d82eb6",
   "metadata": {},
   "outputs": [],
   "source": [
    "haryana=df[df['SUBDIVISION']=='Haryana Delhi & Chandigarh']"
   ]
  },
  {
   "cell_type": "code",
   "execution_count": 7,
   "id": "aafef515",
   "metadata": {},
   "outputs": [],
   "source": [
    "haryana_year=haryana['YEAR']"
   ]
  },
  {
   "cell_type": "code",
   "execution_count": 8,
   "id": "bc7f4396",
   "metadata": {},
   "outputs": [],
   "source": [
    "haryana_rainfall=haryana['ANNUAL']"
   ]
  },
  {
   "cell_type": "code",
   "execution_count": 9,
   "id": "4307275b",
   "metadata": {},
   "outputs": [],
   "source": [
    "# Plotting scatter and line plot"
   ]
  },
  {
   "cell_type": "code",
   "execution_count": 10,
   "id": "e444f0b2",
   "metadata": {},
   "outputs": [],
   "source": [
    "plt.figure(figsize=(15,15))\n",
    "plt.scatter(haryana_year[-18:],haryana_rainfall.iloc[-18:])\n",
    "plt.ylabel('Rainfall in (mm)',fontsize=14)\n",
    "plt.title('Rainfall in Haryana, Delhi & Chandigarh from 2000 to 2017',fontweight='bold',fontsize=14)\n",
    "plt.xlabel('Year',fontsize=14)\n",
    "plt.xticks(np.arange(2000,2018, step=1));"
   ]
  },
  {
   "cell_type": "code",
   "execution_count": 11,
   "id": "d278580a",
   "metadata": {},
   "outputs": [],
   "source": [
    "plt.figure(figsize=(15,15))\n",
    "plt.plot(haryana_year[-18:],haryana_rainfall.iloc[-18:])\n",
    "plt.ylabel('Rainfall in (mm)',fontsize=14)\n",
    "plt.title('Rainfall in Haryana, Delhi & Chandigarh from 2000 to 2017',fontweight='bold',fontsize=14)\n",
    "plt.xlabel('Year',fontsize=14)\n",
    "plt.xticks(np.arange(2000,2018, step=1));"
   ]
  },
  {
   "cell_type": "code",
   "execution_count": 12,
   "id": "6af9210d",
   "metadata": {},
   "outputs": [],
   "source": [
    "orissa=df[df['SUBDIVISION']=='Orissa']"
   ]
  },
  {
   "cell_type": "code",
   "execution_count": 13,
   "id": "0d15c2a3",
   "metadata": {},
   "outputs": [],
   "source": [
    "orissa_year=orissa['YEAR']"
   ]
  },
  {
   "cell_type": "code",
   "execution_count": 14,
   "id": "1e18d26e",
   "metadata": {},
   "outputs": [],
   "source": [
    "orissa_rainfall=orissa['ANNUAL']"
   ]
  },
  {
   "cell_type": "code",
   "execution_count": 15,
   "id": "e5e6b68c",
   "metadata": {},
   "outputs": [],
   "source": [
    "Jharkhand=df[df['SUBDIVISION']=='Jharkhand']"
   ]
  },
  {
   "cell_type": "code",
   "execution_count": 16,
   "id": "508b2318",
   "metadata": {},
   "outputs": [],
   "source": [
    "Jharkhand_year=Jharkhand['YEAR']"
   ]
  },
  {
   "cell_type": "code",
   "execution_count": 17,
   "id": "9957622b",
   "metadata": {},
   "outputs": [],
   "source": [
    "Jharkhand_rainfall=Jharkhand['ANNUAL']"
   ]
  },
  {
   "cell_type": "code",
   "execution_count": 18,
   "id": "9e22ce2c",
   "metadata": {},
   "outputs": [],
   "source": [
    "data=[Jharkhand_rainfall.iloc[-18:],orissa_rainfall.iloc[-18:]]"
   ]
  },
  {
   "cell_type": "code",
   "execution_count": 19,
   "id": "e5444f5f",
   "metadata": {},
   "outputs": [],
   "source": [
    "# Plotting the boxplot"
   ]
  },
  {
   "cell_type": "code",
   "execution_count": 20,
   "id": "033871c1",
   "metadata": {},
   "outputs": [
    {
     "data": {
      "text/plain": [
       "Text(0.5, 1.0, 'Boxplot for Rainfall in two states from 2000 to 2017')"
      ]
     },
     "execution_count": 20,
     "metadata": {},
     "output_type": "execute_result"
    }
   ],
   "source": [
    "plt.figure(figsize=(10,10))\n",
    "plt.boxplot(data);\n",
    "plt.xticks([1,2],['Jharkhand','Orissa']);\n",
    "plt.ylabel('Rainfall in (mm)',fontsize=14)\n",
    "plt.title('Boxplot for Rainfall in two states from 2000 to 2017',fontweight='bold',fontsize=14)"
   ]
  },
  {
   "cell_type": "raw",
   "id": "e4fe98c6",
   "metadata": {},
   "source": [
    "plt.figure(figsize=(15,15))\n",
    "plt.plot(orissa_year[-18:],orissa_rainfall.iloc[-18:])\n",
    "plt.plot(Jharkhand_year[-18:],Jharkhand_rainfall.iloc[-18:])\n",
    "plt.ylabel('Rainfall in (mm)',fontsize=14)\n",
    "plt.title('Rainfall in Haryana, Delhi & Chandigarh from 2000 to 2017',fontweight='bold',fontsize=14)\n",
    "plt.xlabel('Year',fontsize=14)\n",
    "plt.xticks(np.arange(2000,2018, step=1));"
   ]
  },
  {
   "cell_type": "code",
   "execution_count": null,
   "id": "debe4cc1",
   "metadata": {},
   "outputs": [],
   "source": []
  }
 ],
 "metadata": {
  "kernelspec": {
   "display_name": "Python 3 (ipykernel)",
   "language": "python",
   "name": "python3"
  },
  "language_info": {
   "codemirror_mode": {
    "name": "ipython",
    "version": 3
   },
   "file_extension": ".py",
   "mimetype": "text/x-python",
   "name": "python",
   "nbconvert_exporter": "python",
   "pygments_lexer": "ipython3",
   "version": "3.9.7"
  }
 },
 "nbformat": 4,
 "nbformat_minor": 5
}
